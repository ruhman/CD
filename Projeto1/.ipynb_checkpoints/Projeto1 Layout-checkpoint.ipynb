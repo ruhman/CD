{
 "cells": [
  {
   "cell_type": "markdown",
   "metadata": {},
   "source": [
    "___\n",
    "# PROJETO 1"
   ]
  },
  {
   "cell_type": "markdown",
   "metadata": {},
   "source": [
    "## <font color='red'>Daniel Ruhman</font>\n",
    "___"
   ]
  },
  {
   "cell_type": "markdown",
   "metadata": {},
   "source": [
    "## <font color='blue'>Distribuição de renda entre aposentados de sexos opostos e diferentes raças </font>"
   ]
  },
  {
   "cell_type": "markdown",
   "metadata": {},
   "source": [
    "## Introdução\n",
    "\n",
    "Ao comparar a renda da aposentadoria paga a aposentados de diferentes raças que fizeram faculdade, pretendo analisar se existe uma discriminação implícita na remuneração brasileira. Porém, foi encontrado um possivel erro no banco de dados em relação a distribuição de raças (explicado em detalhe mais abaixo), impossibilitando essa análise. Parti, então, para uma comparação de renda entre homens e mulheres aposentados, visando descobrir se existe algum padrão sexista na remuneração brasileira\n",
    "\n",
    "Algo como http://www.cnbc.com/2015/10/19/-gender-gap.html , uma análise de uma pesquisa que mostra a diferença na renda média anual de homens e mulheres aposentados e explica como uma herança sexista com diferença de salários ao longo da vida (menores se comparados a homens em cargos semelhantes) afeta a aposentadoria das mulheres. Muito bem feita, essa análise utiliza principalmente a renda média dos aposentados, e a relaciona com duração média da aposentadoria, custos de saúde, economia por parte do indivíduo etc para mostrar uma imagem completa do estado atual da aposentadoria feminina.\n"
   ]
  },
  {
   "cell_type": "markdown",
   "metadata": {},
   "source": [
    "___\n",
    "## Análise e Resultados"
   ]
  },
  {
   "cell_type": "code",
   "execution_count": 167,
   "metadata": {
    "collapsed": true
   },
   "outputs": [],
   "source": [
    "%matplotlib inline\n",
    "import pandas as pd\n",
    "import matplotlib.pyplot as plt\n",
    "import numpy as np\n",
    "import os"
   ]
  },
  {
   "cell_type": "code",
   "execution_count": 168,
   "metadata": {
    "collapsed": false
   },
   "outputs": [
    {
     "name": "stdout",
     "output_type": "stream",
     "text": [
      "Esperamos trabalhar no diretório\n",
      "/Users/daniruhman/Dropbox/Insper/Ciencia dos Dados/CD-Daniel Ruhman-Git/Projeto1\n"
     ]
    }
   ],
   "source": [
    "print('Esperamos trabalhar no diretório')\n",
    "print(os.getcwd())"
   ]
  },
  {
   "cell_type": "code",
   "execution_count": 169,
   "metadata": {
    "collapsed": false
   },
   "outputs": [],
   "source": [
    "\"\"\"Vamos ler a estrutura da PNAD como um dataframe.\n",
    "    São muitas colunas e precisamos usar a informação de tamanho para ler a PNAD de fato\n",
    "    como uma base de tamanho fixo\"\"\"\n",
    "estrutura = pd.read_table(\"pes_py.txt\", sep=\";\")"
   ]
  },
  {
   "cell_type": "code",
   "execution_count": 170,
   "metadata": {
    "collapsed": false,
    "scrolled": true
   },
   "outputs": [
    {
     "data": {
      "text/html": [
       "<div>\n",
       "<table border=\"1\" class=\"dataframe\">\n",
       "  <thead>\n",
       "    <tr style=\"text-align: right;\">\n",
       "      <th></th>\n",
       "      <th>Coluna</th>\n",
       "      <th>Tamanho</th>\n",
       "      <th>Título</th>\n",
       "    </tr>\n",
       "  </thead>\n",
       "  <tbody>\n",
       "    <tr>\n",
       "      <th>0</th>\n",
       "      <td>V0101</td>\n",
       "      <td>4</td>\n",
       "      <td>Ano de referência</td>\n",
       "    </tr>\n",
       "    <tr>\n",
       "      <th>1</th>\n",
       "      <td>UF</td>\n",
       "      <td>2</td>\n",
       "      <td>Unidade da Federação</td>\n",
       "    </tr>\n",
       "    <tr>\n",
       "      <th>2</th>\n",
       "      <td>V0102</td>\n",
       "      <td>6</td>\n",
       "      <td>Número de controle</td>\n",
       "    </tr>\n",
       "    <tr>\n",
       "      <th>3</th>\n",
       "      <td>V0103</td>\n",
       "      <td>3</td>\n",
       "      <td>Número de série</td>\n",
       "    </tr>\n",
       "    <tr>\n",
       "      <th>4</th>\n",
       "      <td>V0301</td>\n",
       "      <td>2</td>\n",
       "      <td>Número de ordem</td>\n",
       "    </tr>\n",
       "  </tbody>\n",
       "</table>\n",
       "</div>"
      ],
      "text/plain": [
       "  Coluna  Tamanho                Título\n",
       "0  V0101        4     Ano de referência\n",
       "1     UF        2  Unidade da Federação\n",
       "2  V0102        6    Número de controle\n",
       "3  V0103        3       Número de série\n",
       "4  V0301        2       Número de ordem"
      ]
     },
     "execution_count": 170,
     "metadata": {},
     "output_type": "execute_result"
    }
   ],
   "source": [
    "estrutura.head()"
   ]
  },
  {
   "cell_type": "code",
   "execution_count": 171,
   "metadata": {
    "collapsed": false
   },
   "outputs": [],
   "source": [
    "# Se quiser uma leitura mais rápida, use o arquivo descompactado. Não esqueça de adicionar ao seu .gitignore\n",
    "pnad2014 = pd.read_fwf(\"PES2014.txt\", widths=estrutura.Tamanho, header=None)"
   ]
  },
  {
   "cell_type": "code",
   "execution_count": 172,
   "metadata": {
    "collapsed": false
   },
   "outputs": [
    {
     "data": {
      "text/html": [
       "<div>\n",
       "<table border=\"1\" class=\"dataframe\">\n",
       "  <thead>\n",
       "    <tr style=\"text-align: right;\">\n",
       "      <th></th>\n",
       "      <th>0</th>\n",
       "      <th>1</th>\n",
       "      <th>2</th>\n",
       "      <th>3</th>\n",
       "      <th>4</th>\n",
       "      <th>5</th>\n",
       "      <th>6</th>\n",
       "      <th>7</th>\n",
       "      <th>8</th>\n",
       "      <th>9</th>\n",
       "      <th>...</th>\n",
       "      <th>331</th>\n",
       "      <th>332</th>\n",
       "      <th>333</th>\n",
       "      <th>334</th>\n",
       "      <th>335</th>\n",
       "      <th>336</th>\n",
       "      <th>337</th>\n",
       "      <th>338</th>\n",
       "      <th>339</th>\n",
       "      <th>340</th>\n",
       "    </tr>\n",
       "  </thead>\n",
       "  <tbody>\n",
       "    <tr>\n",
       "      <th>0</th>\n",
       "      <td>2014</td>\n",
       "      <td>11</td>\n",
       "      <td>15</td>\n",
       "      <td>1</td>\n",
       "      <td>1</td>\n",
       "      <td>2</td>\n",
       "      <td>19</td>\n",
       "      <td>8</td>\n",
       "      <td>1987</td>\n",
       "      <td>27</td>\n",
       "      <td>...</td>\n",
       "      <td>3.0</td>\n",
       "      <td>500.0</td>\n",
       "      <td>3.0</td>\n",
       "      <td>3</td>\n",
       "      <td>1.0</td>\n",
       "      <td>2.0</td>\n",
       "      <td>2.0</td>\n",
       "      <td>1.0</td>\n",
       "      <td>500.0</td>\n",
       "      <td>20160623</td>\n",
       "    </tr>\n",
       "    <tr>\n",
       "      <th>1</th>\n",
       "      <td>2014</td>\n",
       "      <td>11</td>\n",
       "      <td>15</td>\n",
       "      <td>1</td>\n",
       "      <td>2</td>\n",
       "      <td>4</td>\n",
       "      <td>19</td>\n",
       "      <td>1</td>\n",
       "      <td>1986</td>\n",
       "      <td>28</td>\n",
       "      <td>...</td>\n",
       "      <td>3.0</td>\n",
       "      <td>500.0</td>\n",
       "      <td>3.0</td>\n",
       "      <td>4</td>\n",
       "      <td>2.0</td>\n",
       "      <td>NaN</td>\n",
       "      <td>2.0</td>\n",
       "      <td>1.0</td>\n",
       "      <td>500.0</td>\n",
       "      <td>20160623</td>\n",
       "    </tr>\n",
       "    <tr>\n",
       "      <th>2</th>\n",
       "      <td>2014</td>\n",
       "      <td>11</td>\n",
       "      <td>15</td>\n",
       "      <td>1</td>\n",
       "      <td>3</td>\n",
       "      <td>2</td>\n",
       "      <td>14</td>\n",
       "      <td>5</td>\n",
       "      <td>2013</td>\n",
       "      <td>1</td>\n",
       "      <td>...</td>\n",
       "      <td>3.0</td>\n",
       "      <td>500.0</td>\n",
       "      <td>3.0</td>\n",
       "      <td>1</td>\n",
       "      <td>NaN</td>\n",
       "      <td>NaN</td>\n",
       "      <td>NaN</td>\n",
       "      <td>NaN</td>\n",
       "      <td>500.0</td>\n",
       "      <td>20160623</td>\n",
       "    </tr>\n",
       "    <tr>\n",
       "      <th>3</th>\n",
       "      <td>2014</td>\n",
       "      <td>11</td>\n",
       "      <td>15</td>\n",
       "      <td>2</td>\n",
       "      <td>1</td>\n",
       "      <td>2</td>\n",
       "      <td>8</td>\n",
       "      <td>4</td>\n",
       "      <td>1963</td>\n",
       "      <td>51</td>\n",
       "      <td>...</td>\n",
       "      <td>2.0</td>\n",
       "      <td>1150.0</td>\n",
       "      <td>4.0</td>\n",
       "      <td>2</td>\n",
       "      <td>1.0</td>\n",
       "      <td>2.0</td>\n",
       "      <td>2.0</td>\n",
       "      <td>1.0</td>\n",
       "      <td>1150.0</td>\n",
       "      <td>20160623</td>\n",
       "    </tr>\n",
       "    <tr>\n",
       "      <th>4</th>\n",
       "      <td>2014</td>\n",
       "      <td>11</td>\n",
       "      <td>15</td>\n",
       "      <td>2</td>\n",
       "      <td>2</td>\n",
       "      <td>4</td>\n",
       "      <td>6</td>\n",
       "      <td>11</td>\n",
       "      <td>1970</td>\n",
       "      <td>43</td>\n",
       "      <td>...</td>\n",
       "      <td>2.0</td>\n",
       "      <td>1150.0</td>\n",
       "      <td>4.0</td>\n",
       "      <td>3</td>\n",
       "      <td>1.0</td>\n",
       "      <td>2.0</td>\n",
       "      <td>2.0</td>\n",
       "      <td>1.0</td>\n",
       "      <td>1150.0</td>\n",
       "      <td>20160623</td>\n",
       "    </tr>\n",
       "  </tbody>\n",
       "</table>\n",
       "<p>5 rows × 341 columns</p>\n",
       "</div>"
      ],
      "text/plain": [
       "    0    1    2    3    4    5    6    7     8    9      ...     331     332  \\\n",
       "0  2014   11   15    1    1    2   19    8  1987   27    ...     3.0   500.0   \n",
       "1  2014   11   15    1    2    4   19    1  1986   28    ...     3.0   500.0   \n",
       "2  2014   11   15    1    3    2   14    5  2013    1    ...     3.0   500.0   \n",
       "3  2014   11   15    2    1    2    8    4  1963   51    ...     2.0  1150.0   \n",
       "4  2014   11   15    2    2    4    6   11  1970   43    ...     2.0  1150.0   \n",
       "\n",
       "   333  334  335  336  337  338     339       340  \n",
       "0  3.0    3  1.0  2.0  2.0  1.0   500.0  20160623  \n",
       "1  3.0    4  2.0  NaN  2.0  1.0   500.0  20160623  \n",
       "2  3.0    1  NaN  NaN  NaN  NaN   500.0  20160623  \n",
       "3  4.0    2  1.0  2.0  2.0  1.0  1150.0  20160623  \n",
       "4  4.0    3  1.0  2.0  2.0  1.0  1150.0  20160623  \n",
       "\n",
       "[5 rows x 341 columns]"
      ]
     },
     "execution_count": 172,
     "metadata": {},
     "output_type": "execute_result"
    }
   ],
   "source": [
    "pnad2014.head()"
   ]
  },
  {
   "cell_type": "code",
   "execution_count": 173,
   "metadata": {
    "collapsed": false
   },
   "outputs": [
    {
     "data": {
      "text/plain": [
       "Index(['Coluna', 'Tamanho', 'Título'], dtype='object')"
      ]
     },
     "execution_count": 173,
     "metadata": {},
     "output_type": "execute_result"
    }
   ],
   "source": [
    "estrutura.columns"
   ]
  },
  {
   "cell_type": "code",
   "execution_count": 174,
   "metadata": {
    "collapsed": false
   },
   "outputs": [],
   "source": [
    "pnad2014.columns = estrutura.Coluna"
   ]
  },
  {
   "cell_type": "markdown",
   "metadata": {},
   "source": [
    "Vamos agora iniciar a filtração dos dados. Para a análise inicial, vamos extrair os aposentados do banco de dados. Depois, filtraremos por diploma de faculdade (para termos uma análise de renda mais justa, posteriormente). Por fim, filtraremos a idade para excluir excessões e manter um conjunto de dados coerente."
   ]
  },
  {
   "cell_type": "code",
   "execution_count": 175,
   "metadata": {
    "collapsed": false
   },
   "outputs": [
    {
     "name": "stdout",
     "output_type": "stream",
     "text": [
      "Número de aposentados: 38643\n",
      "Número de aposentados com diploma de faculdade: 5459\n",
      "Número de aposentados com diploma de faculdade e idade corrigida: 5401\n"
     ]
    }
   ],
   "source": [
    "aposentados = pnad2014[pnad2014.V9122 == 2] #pegar apenas os aposentados, 1a var\n",
    "print(\"Número de aposentados:\", aposentados.V0101.count())\n",
    "comDiploma = aposentados[aposentados.V6007>=8] #pegar apenas quem tem diploma de faculdade, 2a var\n",
    "print(\"Número de aposentados com diploma de faculdade:\", comDiploma.V0101.count())\n",
    "idadeCorreta = comDiploma[(comDiploma.V8005>=40)&(comDiploma.V8005<=90)] # filtrar idade para remover excessões, 3a var\n",
    "print(\"Número de aposentados com diploma de faculdade e idade corrigida:\", idadeCorreta.V0101.count())\n",
    "#empregoPublico = comDiploma[comDiploma.V9032 == 4] #separar apenas os que trabalharam em cargos publicos\n",
    "#print(\"Nº de aposentados com diploma de faculdade e emprego público:\", empregoPublico.V0101.count())\n",
    "#empregoPrivado = comDiploma[comDiploma.V9032 == 2] #separar apenas os que trabalharam em cargos privados\n",
    "#print(\"Nº de aposentados com diploma de faculdade e emprego privado:\", empregoPrivado.V0101.count())"
   ]
  },
  {
   "cell_type": "code",
   "execution_count": 176,
   "metadata": {
    "collapsed": false
   },
   "outputs": [
    {
     "data": {
      "text/plain": [
       "count    5401.000000\n",
       "mean       64.788002\n",
       "std         8.928048\n",
       "min        40.000000\n",
       "25%        59.000000\n",
       "50%        64.000000\n",
       "75%        70.000000\n",
       "max        90.000000\n",
       "Name: V8005, dtype: float64"
      ]
     },
     "execution_count": 176,
     "metadata": {},
     "output_type": "execute_result"
    },
    {
     "data": {
      "image/png": "[encoded data removed]",
      "text/plain": [
       "<matplotlib.figure.Figure at 0x16ee34b70>"
      ]
     },
     "metadata": {},
     "output_type": "display_data"
    }
   ],
   "source": [
    "faixas = np.arange(40,90,5)\n",
    "idadeCorreta.V8005.plot.hist(title=\"Distribuição de Idade dos Aposentados\",bins=faixas)\n",
    "idadeCorreta.V8005.describe()"
   ]
  },
  {
   "cell_type": "markdown",
   "metadata": {},
   "source": [
    "A partir dessa análise, observamos que a idade média dos aposentados brasileiros é ~ 64.79% , e que 50% dos aposentados do país se concentram entre 59-70 anos de idade. Dentro do esperado."
   ]
  },
  {
   "cell_type": "code",
   "execution_count": 177,
   "metadata": {
    "collapsed": false
   },
   "outputs": [
    {
     "data": {
      "text/plain": [
       "Preta       3532\n",
       "Indígena    1493\n",
       "Amarela      289\n",
       "Parda         66\n",
       "Branca        21\n",
       "dtype: int64"
      ]
     },
     "execution_count": 177,
     "metadata": {},
     "output_type": "execute_result"
    },
    {
     "data": {
      "image/png": "[encoded data removed]",
      "text/plain": [
       "<matplotlib.figure.Figure at 0x1460f32e8>"
      ]
     },
     "metadata": {},
     "output_type": "display_data"
    }
   ],
   "source": [
    "#distribuição da idade pelas diferentes raças\n",
    "raca = idadeCorreta.V0404.astype('category',ordered=True) #classificar idade como dados quantitavos e categorizar, 4a var\n",
    "raca.cat.categories = (\"Branca\",\"Preta\",\"Amarela\",\"Parda\",\"Indígena\")\n",
    "raca.value_counts().plot(kind='pie',title=\"Distribuição de Raças dos aposentados\")\n",
    "raca.value_counts()\n",
    "#empregoPrivado.boxplot(columns=\"V8005\", by=\"V0404\")"
   ]
  },
  {
   "cell_type": "markdown",
   "metadata": {},
   "source": [
    "Ao plotarmos o grupo-alvo de aposentados pelas suas raças reportadas, notamos algo de estranho. A primeira vista, isso não parece condizente (dado que ~50% da população é branca, e apenas ~0.42% é indígena). Vamos, então, analisar os dados como um todo."
   ]
  },
  {
   "cell_type": "code",
   "execution_count": 178,
   "metadata": {
    "collapsed": false
   },
   "outputs": [
    {
     "data": {
      "text/plain": [
       "Indígena    173832\n",
       "Preta       153274\n",
       "Amarela      32292\n",
       "Branca        1795\n",
       "Parda         1432\n",
       "N/A              2\n",
       "dtype: int64"
      ]
     },
     "execution_count": 178,
     "metadata": {},
     "output_type": "execute_result"
    },
    {
     "data": {
      "image/png": "[encoded data removed]",
      "text/plain": [
       "<matplotlib.figure.Figure at 0x114afc7f0>"
      ]
     },
     "metadata": {},
     "output_type": "display_data"
    }
   ],
   "source": [
    "#distribuição das pessoas pelas raças\n",
    "raca = pnad2014.V0404.astype('category',ordered=True)\n",
    "raca.cat.categories = (\"Branca\",\"Preta\",\"Amarela\",\"Parda\",\"Indígena\",\"N/A\")\n",
    "raca.value_counts().plot(kind='pie',title=\"Distribuição de Raças dos aposentados\")\n",
    "raca.value_counts()\n",
    "#empregoPrivado.boxplot(columns=\"V8005\", by=\"V0404\")"
   ]
  },
  {
   "cell_type": "markdown",
   "metadata": {},
   "source": [
    "Novamente, reparamos algo de estranho. Isso claramente não condiz com a realidade brasileira. Temos, então, um **problema de amostragem nos dados** . Inicialmente, o objetivo da análise era comparar a diferença de renda entre aposentados de diferentes raças. Devido ao problema descoberto, mudaremos então para uma comparação das diferenças de rendas entre aposentados e aposentadas, buscando encontrar algum padrão (ou não) sexista na renda da aposentadoria."
   ]
  },
  {
   "cell_type": "code",
   "execution_count": 179,
   "metadata": {
    "collapsed": false
   },
   "outputs": [
    {
     "data": {
      "text/html": [
       "<div>\n",
       "<table border=\"1\" class=\"dataframe\">\n",
       "  <thead>\n",
       "    <tr style=\"text-align: right;\">\n",
       "      <th>V4743</th>\n",
       "      <th>Sem rendimento</th>\n",
       "      <th>Até ¼ salário mínimo</th>\n",
       "      <th>Mais de ¼ até ½ salário mínimo</th>\n",
       "      <th>Mais de ½ até 1 salário mínimo</th>\n",
       "      <th>Mais de 1 até 2 salários mínimos</th>\n",
       "      <th>Mais de 2 até 3 salários mínimos</th>\n",
       "      <th>Mais de 3 até 5 salários mínimos</th>\n",
       "      <th>Mais de 5 salários mínimos</th>\n",
       "    </tr>\n",
       "    <tr>\n",
       "      <th>V0302</th>\n",
       "      <th></th>\n",
       "      <th></th>\n",
       "      <th></th>\n",
       "      <th></th>\n",
       "      <th></th>\n",
       "      <th></th>\n",
       "      <th></th>\n",
       "      <th></th>\n",
       "    </tr>\n",
       "  </thead>\n",
       "  <tbody>\n",
       "    <tr>\n",
       "      <th>Masculino</th>\n",
       "      <td>4</td>\n",
       "      <td>57</td>\n",
       "      <td>267</td>\n",
       "      <td>353</td>\n",
       "      <td>258</td>\n",
       "      <td>372</td>\n",
       "      <td>810</td>\n",
       "      <td>187</td>\n",
       "    </tr>\n",
       "    <tr>\n",
       "      <th>Feminino</th>\n",
       "      <td>6</td>\n",
       "      <td>58</td>\n",
       "      <td>308</td>\n",
       "      <td>486</td>\n",
       "      <td>448</td>\n",
       "      <td>598</td>\n",
       "      <td>964</td>\n",
       "      <td>223</td>\n",
       "    </tr>\n",
       "  </tbody>\n",
       "</table>\n",
       "</div>"
      ],
      "text/plain": [
       "V4743      Sem rendimento  Até ¼ salário mínimo  \\\n",
       "V0302                                             \n",
       "Masculino               4                    57   \n",
       "Feminino                6                    58   \n",
       "\n",
       "V4743      Mais de ¼ até ½ salário mínimo  Mais de ½ até 1 salário mínimo  \\\n",
       "V0302                                                                       \n",
       "Masculino                             267                             353   \n",
       "Feminino                              308                             486   \n",
       "\n",
       "V4743      Mais de 1 até 2 salários mínimos  Mais de 2 até 3 salários mínimos  \\\n",
       "V0302                                                                           \n",
       "Masculino                               258                               372   \n",
       "Feminino                                448                               598   \n",
       "\n",
       "V4743      Mais de 3 até 5 salários mínimos  Mais de 5 salários mínimos  \n",
       "V0302                                                                    \n",
       "Masculino                               810                         187  \n",
       "Feminino                                964                         223  "
      ]
     },
     "execution_count": 179,
     "metadata": {},
     "output_type": "execute_result"
    }
   ],
   "source": [
    "#separar homens de mulheres, 5a var\n",
    "homens = idadeCorreta[idadeCorreta.V0302 == 2]\n",
    "mulheres = idadeCorreta[idadeCorreta.V0302 == 4]\n",
    "\n",
    "sexo = idadeCorreta.V0302.astype('category',ordered=True)\n",
    "sexo.cat.categories = (\"Masculino\",\"Feminino\")\n",
    "sexo.value_counts()\n",
    "\n",
    "renda = aposentados.V4743.astype('category',ordered=True)\n",
    "renda.cat.categories = \"Sem rendimento\", \"Até ¼ salário mínimo\",\"Mais de ¼ até ½ salário mínimo\",\"Mais de ½ até 1 salário mínimo\",\"Mais de 1 até 2 salários mínimos\",\"Mais de 2 até 3 salários mínimos\",\"Mais de 3 até 5 salários mínimos\",\"Mais de 5 salários mínimos\"\n",
    "sexoRenda = pd.crosstab(sexo,renda)\n",
    "sexoRenda\n"
   ]
  },
  {
   "cell_type": "code",
   "execution_count": 180,
   "metadata": {
    "collapsed": false
   },
   "outputs": [
    {
     "data": {
      "text/plain": [
       "Feminino     57.230143\n",
       "Masculino    42.769857\n",
       "dtype: float64"
      ]
     },
     "execution_count": 180,
     "metadata": {},
     "output_type": "execute_result"
    },
    {
     "data": {
      "image/png": "[encoded data removed]",
      "text/plain": [
       "<matplotlib.figure.Figure at 0x133d7b828>"
      ]
     },
     "metadata": {},
     "output_type": "display_data"
    }
   ],
   "source": [
    "sexoRenda.plot(kind='bar',title=\"Distribuição de Renda dos aposentados e aposentadas\").legend(bbox_to_anchor=(1.05, 1), loc=2, borderaxespad=0.)\n",
    "sexo.value_counts(True)*100"
   ]
  },
  {
   "cell_type": "markdown",
   "metadata": {},
   "source": [
    "Observamos que há uma **distribuição de sexos condizente com a realidade**. Ao categorizarmos as faixas de salário, e separando os grupos masculino e feminino, percebemos que a **distribuição é simétrica**."
   ]
  },
  {
   "cell_type": "code",
   "execution_count": 181,
   "metadata": {
    "collapsed": false
   },
   "outputs": [
    {
     "data": {
      "text/plain": [
       "Privada    355\n",
       "Pública    355\n",
       "dtype: int64"
      ]
     },
     "execution_count": 181,
     "metadata": {},
     "output_type": "execute_result"
    }
   ],
   "source": [
    "redeDeEnsino = idadeCorreta.V9032.astype('category',ordered=True)\n",
    "redeDeEnsino.cat.categories = (\"Pública\",\"Privada\")\n",
    "redeDeEnsino.value_counts()"
   ]
  },
  {
   "cell_type": "code",
   "execution_count": null,
   "metadata": {
    "collapsed": true
   },
   "outputs": [],
   "source": []
  },
  {
   "cell_type": "markdown",
   "metadata": {},
   "source": [
    "___"
   ]
  },
  {
   "cell_type": "markdown",
   "metadata": {
    "collapsed": false
   },
   "source": [
    "___\n",
    "## Conclusão "
   ]
  },
  {
   "cell_type": "markdown",
   "metadata": {
    "collapsed": true
   },
   "source": [
    "Descreva aqui suas conclusões!"
   ]
  },
  {
   "cell_type": "code",
   "execution_count": null,
   "metadata": {
    "collapsed": true
   },
   "outputs": [],
   "source": []
  }
 ],
 "metadata": {
  "anaconda-cloud": {},
  "kernelspec": {
   "display_name": "Python 3",
   "language": "python",
   "name": "python3"
  },
  "language_info": {
   "codemirror_mode": {
    "name": "ipython",
    "version": 3
   },
   "file_extension": ".py",
   "mimetype": "text/x-python",
   "name": "python",
   "nbconvert_exporter": "python",
   "pygments_lexer": "ipython3",
   "version": "3.5.2"
  }
 },
 "nbformat": 4,
 "nbformat_minor": 0
}
