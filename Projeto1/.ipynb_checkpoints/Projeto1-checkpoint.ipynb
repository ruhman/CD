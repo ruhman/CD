{
 "cells": [
  {
   "cell_type": "markdown",
   "metadata": {},
   "source": [
    "# Análise de Área Potencial para uma nova Faculdade - Atividade 1\n",
    "\n",
    "### Por Daniel Ruhman e Marcelo Prado, 2A\n"
   ]
  },
  {
   "cell_type": "code",
   "execution_count": 78,
   "metadata": {
    "collapsed": false
   },
   "outputs": [],
   "source": [
    "import pandas as pd\n",
    "%matplotlib inline\n",
    "import matplotlib.pyplot as plt\n",
    "import matplotlib\n",
    "import numpy as np\n",
    "\n",
    "dados = pd.read_table(\"pes2013A.txt\",sep=\" \")"
   ]
  },
  {
   "cell_type": "code",
   "execution_count": 79,
   "metadata": {
    "collapsed": false
   },
   "outputs": [
    {
     "name": "stderr",
     "output_type": "stream",
     "text": [
      "//anaconda/lib/python3.5/site-packages/ipykernel/__main__.py:2: SettingWithCopyWarning: \n",
      "A value is trying to be set on a copy of a slice from a DataFrame\n",
      "\n",
      "See the caveats in the documentation: http://pandas.pydata.org/pandas-docs/stable/indexing.html#indexing-view-versus-copy\n",
      "  from ipykernel import kernelapp as app\n",
      "//anaconda/lib/python3.5/site-packages/ipykernel/__main__.py:3: SettingWithCopyWarning: \n",
      "A value is trying to be set on a copy of a slice from a DataFrame\n",
      "\n",
      "See the caveats in the documentation: http://pandas.pydata.org/pandas-docs/stable/indexing.html#indexing-view-versus-copy\n",
      "  app.launch_new_instance()\n",
      "//anaconda/lib/python3.5/site-packages/ipykernel/__main__.py:4: SettingWithCopyWarning: \n",
      "A value is trying to be set on a copy of a slice from a DataFrame\n",
      "\n",
      "See the caveats in the documentation: http://pandas.pydata.org/pandas-docs/stable/indexing.html#indexing-view-versus-copy\n",
      "//anaconda/lib/python3.5/site-packages/ipykernel/__main__.py:5: SettingWithCopyWarning: \n",
      "A value is trying to be set on a copy of a slice from a DataFrame\n",
      "\n",
      "See the caveats in the documentation: http://pandas.pydata.org/pandas-docs/stable/indexing.html#indexing-view-versus-copy\n",
      "//anaconda/lib/python3.5/site-packages/ipykernel/__main__.py:6: SettingWithCopyWarning: \n",
      "A value is trying to be set on a copy of a slice from a DataFrame\n",
      "\n",
      "See the caveats in the documentation: http://pandas.pydata.org/pandas-docs/stable/indexing.html#indexing-view-versus-copy\n"
     ]
    },
    {
     "data": {
      "text/plain": [
       "1                Norte\n",
       "2                Norte\n",
       "3                Norte\n",
       "4                Norte\n",
       "5                Norte\n",
       "6                Norte\n",
       "7                Norte\n",
       "8                Norte\n",
       "9                Norte\n",
       "10               Norte\n",
       "11               Norte\n",
       "12               Norte\n",
       "13               Norte\n",
       "14               Norte\n",
       "15               Norte\n",
       "16               Norte\n",
       "17               Norte\n",
       "18               Norte\n",
       "19               Norte\n",
       "20               Norte\n",
       "21               Norte\n",
       "22               Norte\n",
       "23               Norte\n",
       "24               Norte\n",
       "25               Norte\n",
       "26               Norte\n",
       "27               Norte\n",
       "28               Norte\n",
       "29               Norte\n",
       "30               Norte\n",
       "              ...     \n",
       "362526    Centro-Oeste\n",
       "362527    Centro-Oeste\n",
       "362528    Centro-Oeste\n",
       "362529    Centro-Oeste\n",
       "362530    Centro-Oeste\n",
       "362531    Centro-Oeste\n",
       "362532    Centro-Oeste\n",
       "362533    Centro-Oeste\n",
       "362534    Centro-Oeste\n",
       "362535    Centro-Oeste\n",
       "362536    Centro-Oeste\n",
       "362537    Centro-Oeste\n",
       "362538    Centro-Oeste\n",
       "362539    Centro-Oeste\n",
       "362540    Centro-Oeste\n",
       "362541    Centro-Oeste\n",
       "362542    Centro-Oeste\n",
       "362543    Centro-Oeste\n",
       "362544    Centro-Oeste\n",
       "362545    Centro-Oeste\n",
       "362546    Centro-Oeste\n",
       "362547    Centro-Oeste\n",
       "362548    Centro-Oeste\n",
       "362549    Centro-Oeste\n",
       "362550    Centro-Oeste\n",
       "362551    Centro-Oeste\n",
       "362552    Centro-Oeste\n",
       "362553    Centro-Oeste\n",
       "362554    Centro-Oeste\n",
       "362555    Centro-Oeste\n",
       "Name: Regiao, dtype: object"
      ]
     },
     "execution_count": 79,
     "metadata": {},
     "output_type": "execute_result"
    }
   ],
   "source": [
    "dados[\"Regiao\"] = dados.UF\n",
    "dados.Regiao[dados.UF <=16]=\"Norte\"\n",
    "dados.Regiao[(dados.UF >=17) & (dados.UF <=29)]=\"Nordeste\"\n",
    "dados.Regiao[(dados.UF >=31) & (dados.UF <=35)]=\"Sudeste\"\n",
    "dados.Regiao[(dados.UF >=41) & (dados.UF <=43)]=\"Sul\"\n",
    "dados.Regiao[(dados.UF >=50) & (dados.UF <=53)]=\"Centro-Oeste\"\n",
    "dados.Regiao"
   ]
  },
  {
   "cell_type": "markdown",
   "metadata": {},
   "source": [
    "**Filtrando os dados:**"
   ]
  },
  {
   "cell_type": "code",
   "execution_count": 80,
   "metadata": {
    "collapsed": false
   },
   "outputs": [],
   "source": [
    "\n",
    "aposentados = dados[dados.V9122 == 2] #pegar apenas os aposentados ***\n",
    "comDiploma = aposentados[aposentados.V6007>=8] #pegar apenas quem tem diploma de faculdade\n",
    "redePublica = comDiploma[comDiploma.V6002==2] #pegar alunos de rede publica\n",
    "empregoPublico = redePublica[redePublica.V9032 == 4] #pegar apenas os que trabalham em cargos publicos\n",
    "target=empregoPublico\n",
    "homens = alfabetizados[alfabetizados.V0302 == 2]\n",
    "mulheres = alfabetizados[alfabetizados.V0302 == 4]"
   ]
  },
  {
   "cell_type": "markdown",
   "metadata": {},
   "source": [
    "**Organizando os resultados**\n",
    "\n",
    "Aqui estamos obtendo as frequências relativas de homens e mulheres em cada estado, seguidos de um gráfico ilustrativo."
   ]
  },
  {
   "cell_type": "code",
   "execution_count": 81,
   "metadata": {
    "collapsed": false
   },
   "outputs": [],
   "source": [
    "mulheresTotais = mulheres.UF.value_counts(True) * 100\n",
    "homensTotais = homens.UF.value_counts(True) * 100"
   ]
  },
  {
   "cell_type": "code",
   "execution_count": 82,
   "metadata": {
    "collapsed": false
   },
   "outputs": [
    {
     "data": {
      "text/plain": [
       "<matplotlib.axes._subplots.AxesSubplot at 0x11d0f8668>"
      ]
     },
     "execution_count": 82,
     "metadata": {},
     "output_type": "execute_result"
    },
    {
     "data": {
      "image/png": "[encoded data removed]",
      "text/plain": [
       "<matplotlib.figure.Figure at 0x12907ccc0>"
      ]
     },
     "metadata": {},
     "output_type": "display_data"
    }
   ],
   "source": [
    "mulheresTotais.plot(kind='bar',legend=False,color=('red' ,'blue'),title='Frequência relativa das mulheres em cada UF')"
   ]
  },
  {
   "cell_type": "code",
   "execution_count": 83,
   "metadata": {
    "collapsed": false
   },
   "outputs": [
    {
     "data": {
      "text/plain": [
       "<matplotlib.axes._subplots.AxesSubplot at 0x11d2cd5c0>"
      ]
     },
     "execution_count": 83,
     "metadata": {},
     "output_type": "execute_result"
    },
    {
     "data": {
      "image/png": "[encoded data removed]",
      "text/plain": [
       "<matplotlib.figure.Figure at 0x11d2cbeb8>"
      ]
     },
     "metadata": {},
     "output_type": "display_data"
    }
   ],
   "source": [
    "homensTotais.plot(kind='bar',legend=False,color=('green' ,'black'),title='Frequência relativa dos homens em cada UF')"
   ]
  },
  {
   "cell_type": "markdown",
   "metadata": {
    "collapsed": true
   },
   "source": [
    "**Tabelas cruzadas**\n",
    "Essa seção mostra as tabelas cruzadas criadas pelo grupo\n",
    "\n",
    "*Cor x Idade*"
   ]
  },
  {
   "cell_type": "code",
   "execution_count": 84,
   "metadata": {
    "collapsed": false
   },
   "outputs": [
    {
     "data": {
      "text/html": [
       "<div>\n",
       "<table border=\"1\" class=\"dataframe\">\n",
       "  <thead>\n",
       "    <tr style=\"text-align: right;\">\n",
       "      <th>V0404</th>\n",
       "      <th>Indígena</th>\n",
       "      <th>Branca</th>\n",
       "      <th>Preta</th>\n",
       "      <th>Amarela</th>\n",
       "      <th>Parda</th>\n",
       "      <th>Não declarado</th>\n",
       "    </tr>\n",
       "    <tr>\n",
       "      <th>V8005</th>\n",
       "      <th></th>\n",
       "      <th></th>\n",
       "      <th></th>\n",
       "      <th></th>\n",
       "      <th></th>\n",
       "      <th></th>\n",
       "    </tr>\n",
       "  </thead>\n",
       "  <tbody>\n",
       "    <tr>\n",
       "      <th>16</th>\n",
       "      <td>39</td>\n",
       "      <td>2498</td>\n",
       "      <td>503</td>\n",
       "      <td>28</td>\n",
       "      <td>3568</td>\n",
       "      <td>0</td>\n",
       "    </tr>\n",
       "    <tr>\n",
       "      <th>17</th>\n",
       "      <td>25</td>\n",
       "      <td>2479</td>\n",
       "      <td>492</td>\n",
       "      <td>23</td>\n",
       "      <td>3365</td>\n",
       "      <td>0</td>\n",
       "    </tr>\n",
       "    <tr>\n",
       "      <th>18</th>\n",
       "      <td>35</td>\n",
       "      <td>2554</td>\n",
       "      <td>537</td>\n",
       "      <td>22</td>\n",
       "      <td>3482</td>\n",
       "      <td>0</td>\n",
       "    </tr>\n",
       "    <tr>\n",
       "      <th>19</th>\n",
       "      <td>29</td>\n",
       "      <td>2343</td>\n",
       "      <td>504</td>\n",
       "      <td>19</td>\n",
       "      <td>3087</td>\n",
       "      <td>0</td>\n",
       "    </tr>\n",
       "    <tr>\n",
       "      <th>20</th>\n",
       "      <td>34</td>\n",
       "      <td>2391</td>\n",
       "      <td>507</td>\n",
       "      <td>23</td>\n",
       "      <td>3028</td>\n",
       "      <td>0</td>\n",
       "    </tr>\n",
       "    <tr>\n",
       "      <th>21</th>\n",
       "      <td>24</td>\n",
       "      <td>2331</td>\n",
       "      <td>489</td>\n",
       "      <td>28</td>\n",
       "      <td>2969</td>\n",
       "      <td>0</td>\n",
       "    </tr>\n",
       "    <tr>\n",
       "      <th>22</th>\n",
       "      <td>30</td>\n",
       "      <td>2345</td>\n",
       "      <td>475</td>\n",
       "      <td>26</td>\n",
       "      <td>2814</td>\n",
       "      <td>0</td>\n",
       "    </tr>\n",
       "    <tr>\n",
       "      <th>23</th>\n",
       "      <td>27</td>\n",
       "      <td>2402</td>\n",
       "      <td>492</td>\n",
       "      <td>20</td>\n",
       "      <td>2702</td>\n",
       "      <td>1</td>\n",
       "    </tr>\n",
       "    <tr>\n",
       "      <th>24</th>\n",
       "      <td>27</td>\n",
       "      <td>2349</td>\n",
       "      <td>464</td>\n",
       "      <td>14</td>\n",
       "      <td>2941</td>\n",
       "      <td>0</td>\n",
       "    </tr>\n",
       "    <tr>\n",
       "      <th>25</th>\n",
       "      <td>23</td>\n",
       "      <td>2401</td>\n",
       "      <td>563</td>\n",
       "      <td>20</td>\n",
       "      <td>2817</td>\n",
       "      <td>1</td>\n",
       "    </tr>\n",
       "  </tbody>\n",
       "</table>\n",
       "</div>"
      ],
      "text/plain": [
       "V0404  Indígena  Branca  Preta  Amarela  Parda  Não declarado\n",
       "V8005                                                        \n",
       "16           39    2498    503       28   3568              0\n",
       "17           25    2479    492       23   3365              0\n",
       "18           35    2554    537       22   3482              0\n",
       "19           29    2343    504       19   3087              0\n",
       "20           34    2391    507       23   3028              0\n",
       "21           24    2331    489       28   2969              0\n",
       "22           30    2345    475       26   2814              0\n",
       "23           27    2402    492       20   2702              1\n",
       "24           27    2349    464       14   2941              0\n",
       "25           23    2401    563       20   2817              1"
      ]
     },
     "execution_count": 84,
     "metadata": {},
     "output_type": "execute_result"
    }
   ],
   "source": [
    "cor = jovens.V0404.astype('category',ordered=True)\n",
    "cor.cat.categories = (\"Indígena\",\"Branca\",\"Preta\",\"Amarela\",\"Parda\",\"Não declarado\")\n",
    "pd.crosstab(jovens.V8005,cor)"
   ]
  },
  {
   "cell_type": "markdown",
   "metadata": {},
   "source": [
    "*Cor x Rede de Ensino*"
   ]
  },
  {
   "cell_type": "code",
   "execution_count": 85,
   "metadata": {
    "collapsed": false
   },
   "outputs": [
    {
     "data": {
      "text/plain": [
       "<matplotlib.axes._subplots.AxesSubplot at 0x11d2852e8>"
      ]
     },
     "execution_count": 85,
     "metadata": {},
     "output_type": "execute_result"
    },
    {
     "data": {
      "image/png": "[encoded data removed]",
      "text/plain": [
       "<matplotlib.figure.Figure at 0x11d4374e0>"
      ]
     },
     "metadata": {},
     "output_type": "display_data"
    }
   ],
   "source": [
    "rede = jovens.V6002.astype('category',ordered=True)\n",
    "rede.cat.categories = ('Pública','Privada')\n",
    "tabela = pd.crosstab(cor,rede)\n",
    "tabela.plot.bar(stacked=True)"
   ]
  },
  {
   "cell_type": "markdown",
   "metadata": {},
   "source": [
    "### Conclusões\n",
    "\n",
    "1. A primeira conclusão desse trabalho foi perceber a importância da seleção de variáveis. Foi com certeza a parte mais trabalhosa e importante, uma vez que garante o sucesso ou o fracasso da análise, partindo do conceito *garbage in, garbage out*.\n",
    "\n",
    "\n",
    "2. A segunda conclusão foi que a melhor região para Sr. Gold abrir sua universidade, segundo a análise do grupo, é a **região de São Paulo**, com cerca de *17% de homens de interesse para o negócio e 17% de mulheres*. A premissa era que a faculdade a ser aberta seria particular, e por conta disso, interesava ao Sr. Gold descobrir a região com maior concentração de jovens formados no Ensino Médio e dispostos a pagar por uma faculdade. Para isso, levou-se em consideração que esses jovens seriam brancos estudantes de escolas particules. A escolha pela cor deu-se pelo motivo do Brasil ser um país extremamente desigual, no qual a maior parte das pessoas em universidades privadas são brancas. Logo, uma futura faculdade particular tem mais chance de atrair estudantes de cor branca. \n",
    "\n",
    "3. A segunda região mais interessante é a do Rio Grande do Sul, com cerca de 13% de mulheres e 13% de homens de interesse ao projeto."
   ]
  },
  {
   "cell_type": "markdown",
   "metadata": {},
   "source": [
    "### Segunda entrega - variáveis quantitativas\n",
    "\n",
    "Abaixo, escolheu-se a variável de *Rendimento mensal domiciliar per capita* para analisar os possíveis candidados a uma faculdade particular, uma vez que essa variável serve como bom indicativo de quanto o candidado está disposto a pagar pela mensalidade do curso."
   ]
  },
  {
   "cell_type": "code",
   "execution_count": 113,
   "metadata": {
    "collapsed": false
   },
   "outputs": [
    {
     "data": {
      "text/plain": [
       "count     3834.000000\n",
       "mean      1821.730829\n",
       "std       2246.556431\n",
       "min          0.000000\n",
       "25%        750.000000\n",
       "50%       1225.000000\n",
       "75%       2143.000000\n",
       "max      56666.000000\n",
       "Name: V4742, dtype: float64"
      ]
     },
     "execution_count": 113,
     "metadata": {},
     "output_type": "execute_result"
    },
    {
     "data": {
      "image/png": "[encoded data removed]",
      "text/plain": [
       "<matplotlib.figure.Figure at 0x128b187f0>"
      ]
     },
     "metadata": {},
     "output_type": "display_data"
    }
   ],
   "source": [
    "#targets são os jovens de interesse do Sr. Goldman\n",
    "renda = targets[(targets.V4742 <= 5000000)]\n",
    "\n",
    "faixas = np.arange(0,6000,60)\n",
    "renda.V4742.plot(title=\"Faixa de Renda por Quantidade de Pessoas\",kind='hist',bins=faixas)\n",
    "renda.V4742.describe()"
   ]
  },
  {
   "cell_type": "code",
   "execution_count": 112,
   "metadata": {
    "collapsed": false
   },
   "outputs": [
    {
     "data": {
      "text/plain": [
       "<matplotlib.axes._subplots.AxesSubplot at 0x128b06cc0>"
      ]
     },
     "execution_count": 112,
     "metadata": {},
     "output_type": "execute_result"
    },
    {
     "data": {
      "image/png": "[encoded data removed]",
      "text/plain": [
       "<matplotlib.figure.Figure at 0x118fa9eb8>"
      ]
     },
     "metadata": {},
     "output_type": "display_data"
    }
   ],
   "source": [
    "renda.V4742.plot.box()"
   ]
  },
  {
   "cell_type": "code",
   "execution_count": 114,
   "metadata": {
    "collapsed": false
   },
   "outputs": [
    {
     "data": {
      "text/plain": [
       "count    4189.000000\n",
       "mean       20.293865\n",
       "std         2.657604\n",
       "min        16.000000\n",
       "25%        18.000000\n",
       "50%        20.000000\n",
       "75%        22.000000\n",
       "max        25.000000\n",
       "Name: V8005, dtype: float64"
      ]
     },
     "execution_count": 114,
     "metadata": {},
     "output_type": "execute_result"
    },
    {
     "data": {
      "image/png": "[encoded data removed]",
      "text/plain": [
       "<matplotlib.figure.Figure at 0x128b13940>"
      ]
     },
     "metadata": {},
     "output_type": "display_data"
    }
   ],
   "source": [
    "#Idade como variável quantitativa\n",
    "idade = targets[\"V8005\"]\n",
    "\n",
    "idade.plot.hist(title=\"Frequência das Idades\")\n",
    "idade.describe()"
   ]
  },
  {
   "cell_type": "code",
   "execution_count": 128,
   "metadata": {
    "collapsed": false
   },
   "outputs": [
    {
     "data": {
      "text/plain": [
       "<matplotlib.axes._subplots.AxesSubplot at 0x12a6bb710>"
      ]
     },
     "execution_count": 128,
     "metadata": {},
     "output_type": "execute_result"
    },
    {
     "data": {
      "image/png": "[encoded data removed]",
      "text/plain": [
       "<matplotlib.figure.Figure at 0x12a6a93c8>"
      ]
     },
     "metadata": {},
     "output_type": "display_data"
    }
   ],
   "source": [
    "idade.plot.box()"
   ]
  },
  {
   "cell_type": "code",
   "execution_count": 129,
   "metadata": {
    "collapsed": false
   },
   "outputs": [
    {
     "data": {
      "text/plain": [
       "<matplotlib.axes._subplots.AxesSubplot at 0x12a934e48>"
      ]
     },
     "execution_count": 129,
     "metadata": {},
     "output_type": "execute_result"
    },
    {
     "data": {
      "image/png": "[encoded data removed]",
      "text/plain": [
       "<matplotlib.figure.Figure at 0x12aaad518>"
      ]
     },
     "metadata": {},
     "output_type": "display_data"
    }
   ],
   "source": [
    "norte = renda[renda.Regiao == \"Norte\"]\n",
    "norte.V4742.plot.box(title=\"Norte\")\n"
   ]
  },
  {
   "cell_type": "code",
   "execution_count": 130,
   "metadata": {
    "collapsed": false
   },
   "outputs": [
    {
     "data": {
      "text/plain": [
       "<matplotlib.axes._subplots.AxesSubplot at 0x12aaad668>"
      ]
     },
     "execution_count": 130,
     "metadata": {},
     "output_type": "execute_result"
    },
    {
     "data": {
      "image/png": "[encoded data removed]",
      "text/plain": [
       "<matplotlib.figure.Figure at 0x12aa9ca58>"
      ]
     },
     "metadata": {},
     "output_type": "display_data"
    }
   ],
   "source": [
    "\n",
    "centro = renda[renda.Regiao == \"Centro-Oeste\"]\n",
    "centro.V4742.plot.box(title=\"Centro-Oeste\")\n"
   ]
  },
  {
   "cell_type": "code",
   "execution_count": 131,
   "metadata": {
    "collapsed": false
   },
   "outputs": [
    {
     "data": {
      "text/plain": [
       "<matplotlib.axes._subplots.AxesSubplot at 0x12ada1240>"
      ]
     },
     "execution_count": 131,
     "metadata": {},
     "output_type": "execute_result"
    },
    {
     "data": {
      "image/png": "[encoded data removed]",
      "text/plain": [
       "<matplotlib.figure.Figure at 0x12adab048>"
      ]
     },
     "metadata": {},
     "output_type": "display_data"
    }
   ],
   "source": [
    "\n",
    "nordeste = renda[renda.Regiao == \"Nordeste\"]\n",
    "nordeste.V4742.plot.box(title=\"Nordeste\")\n"
   ]
  },
  {
   "cell_type": "code",
   "execution_count": 132,
   "metadata": {
    "collapsed": false
   },
   "outputs": [
    {
     "data": {
      "text/plain": [
       "<matplotlib.axes._subplots.AxesSubplot at 0x12a288cf8>"
      ]
     },
     "execution_count": 132,
     "metadata": {},
     "output_type": "execute_result"
    },
    {
     "data": {
      "image/png": "[encoded data removed]",
      "text/plain": [
       "<matplotlib.figure.Figure at 0x12aeff198>"
      ]
     },
     "metadata": {},
     "output_type": "display_data"
    }
   ],
   "source": [
    "\n",
    "sul = renda[renda.Regiao == \"Sul\"]\n",
    "sul.V4742.plot.box(title=\"Sul\")\n",
    "\n"
   ]
  },
  {
   "cell_type": "code",
   "execution_count": 133,
   "metadata": {
    "collapsed": false
   },
   "outputs": [
    {
     "data": {
      "text/plain": [
       "<matplotlib.axes._subplots.AxesSubplot at 0x12af18358>"
      ]
     },
     "execution_count": 133,
     "metadata": {},
     "output_type": "execute_result"
    },
    {
     "data": {
      "image/png": "[encoded data removed]",
      "text/plain": [
       "<matplotlib.figure.Figure at 0x12af1d4e0>"
      ]
     },
     "metadata": {},
     "output_type": "display_data"
    }
   ],
   "source": [
    "sudeste = renda[renda.Regiao == \"Sudeste\"]\n",
    "sudeste.V4742.plot.box(title=\"Sudeste\")"
   ]
  },
  {
   "cell_type": "markdown",
   "metadata": {},
   "source": [
    "### Conclusões - 2a entrega\n",
    "\n",
    "1. A média de renda per capita dos jovens é de R$1800. Com isso, a mensalidade da faculdade não pode ir muito além desse valor caso queira potencializar seu alcance.\n",
    "\n",
    "2. Concluímos que a distribuição das idades é bem simétrica. Dessa forma, não é necessário focar em nenhuma idade especifíca, além daquelas limitadas entre 16 e 25.\n",
    "\n",
    "3. Pela análise dos boxplots, percebemos que a distribuição é assimétrica positiva, gerando diversos valores extremos. Além disso, pode-se ver como Sudeste ganha proporcionalmente muito mais do que as outras regiões, sobretudo a Norte, assegurando mais uma vez que é a região com mais propenção a se abrir uma faculdade privada.\n"
   ]
  },
  {
   "cell_type": "code",
   "execution_count": null,
   "metadata": {
    "collapsed": true
   },
   "outputs": [],
   "source": []
  }
 ],
 "metadata": {
  "kernelspec": {
   "display_name": "Python 3",
   "language": "python",
   "name": "python3"
  },
  "language_info": {
   "codemirror_mode": {
    "name": "ipython",
    "version": 3
   },
   "file_extension": ".py",
   "mimetype": "text/x-python",
   "name": "python",
   "nbconvert_exporter": "python",
   "pygments_lexer": "ipython3",
   "version": "3.5.2"
  }
 },
 "nbformat": 4,
 "nbformat_minor": 0
}
