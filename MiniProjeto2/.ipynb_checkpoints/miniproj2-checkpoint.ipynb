{
 "cells": [
  {
   "cell_type": "markdown",
   "metadata": {},
   "source": [
    "## Daniel Ruhman e Marcelo Prado\n",
    "\n",
    "# Mini Projeto 2 - Teorema do Limite Central\n",
    "\n",
    "Esse projeto visa explicar um pouco da lógica por trás do teorema do limite central. Sendo base para o estudo de estatística, é importante compreênde-lo.\n",
    "\n",
    "### Introdução:\n",
    "A ideia central do teorema é que qualquer conjunto de dados (com amostras suficientes - >30 já basta) pode ter a média amostral aproximada por uma distribuição normal de mesma média e variância igual a var/(n^(1/2)). Para isso, escolhe-se aleatoriamente *n* valores da distribuição a ser transformada e extrai-se a média deles. Repetindo esse processo várias vezes, e plotando essas médias encontradas em um gráfico, chegamos à distribuição normal."
   ]
  },
  {
   "cell_type": "code",
   "execution_count": 2,
   "metadata": {
    "collapsed": false
   },
   "outputs": [],
   "source": [
    "%matplotlib inline\n",
    "import pandas as pd\n",
    "import matplotlib.pyplot as plt\n",
    "import numpy as np\n",
    "import os\n",
    "from scipy import stats\n",
    "\n",
    "lmb=7\n",
    "dist= stats.poisson(lmb)\n",
    "r = stats.poisson.rvs(mu=lmb, loc=0, size=1000000)\n",
    "mean = np.mean(r)\n",
    "var = np.var(r)"
   ]
  },
  {
   "cell_type": "code",
   "execution_count": 3,
   "metadata": {
    "collapsed": false
   },
   "outputs": [
    {
     "name": "stdout",
     "output_type": "stream",
     "text": [
      "7.00884911509\n",
      "3.4641502703\n"
     ]
    },
    {
     "data": {
      "image/png": "[encoded data removed]",
      "text/plain": [
       "<matplotlib.figure.Figure at 0x106660240>"
      ]
     },
     "metadata": {},
     "output_type": "display_data"
    }
   ],
   "source": [
    "meanVal=[]\n",
    "for i in range (0,10001):\n",
    "    valores = np.random.choice(r,2)\n",
    "    meanVal.append(np.mean(valores))\n",
    "    \n",
    "plt.hist(meanVal)\n",
    "plt.title(\"n = 2\")\n",
    "media = np.mean(meanVal)\n",
    "variancia = np.var(meanVal)\n",
    "print(media)\n",
    "print(variancia)"
   ]
  },
  {
   "cell_type": "code",
   "execution_count": 4,
   "metadata": {
    "collapsed": false
   },
   "outputs": [
    {
     "name": "stdout",
     "output_type": "stream",
     "text": [
      "7.00517448255\n",
      "1.77846412564\n"
     ]
    },
    {
     "data": {
      "image/png": "[encoded data removed]",
      "text/plain": [
       "<matplotlib.figure.Figure at 0x115d04d68>"
      ]
     },
     "metadata": {},
     "output_type": "display_data"
    }
   ],
   "source": [
    "meanVal=[]\n",
    "for i in range (0,10001):\n",
    "    valores = np.random.choice(r,4)\n",
    "    meanVal.append(np.mean(valores))\n",
    "    \n",
    "plt.hist(meanVal)\n",
    "media = np.mean(meanVal)\n",
    "plt.title(\"n = 4\")\n",
    "variancia = np.var(meanVal)\n",
    "print(media)\n",
    "print(variancia)"
   ]
  },
  {
   "cell_type": "code",
   "execution_count": 5,
   "metadata": {
    "collapsed": false
   },
   "outputs": [
    {
     "name": "stdout",
     "output_type": "stream",
     "text": [
      "7.00341465853\n",
      "0.349216667274\n"
     ]
    },
    {
     "data": {
      "image/png": "[encoded data removed]",
      "text/plain": [
       "<matplotlib.figure.Figure at 0x119d157f0>"
      ]
     },
     "metadata": {},
     "output_type": "display_data"
    }
   ],
   "source": [
    "meanVal=[]\n",
    "for i in range (0,10001):\n",
    "    valores = np.random.choice(r,20)\n",
    "    meanVal.append(np.mean(valores))\n",
    "    \n",
    "plt.hist(meanVal)\n",
    "plt.title(\"n = 20\")\n",
    "media = np.mean(meanVal)\n",
    "variancia = np.var(meanVal)\n",
    "print(media)\n",
    "print(variancia)"
   ]
  },
  {
   "cell_type": "markdown",
   "metadata": {},
   "source": [
    "### Resultado\n",
    "\n",
    "Podemos perceber que a medida que aumenta-se o n, a distribuição normal tende a ser centralizada na média do conjunto original"
   ]
  },
  {
   "cell_type": "code",
   "execution_count": 6,
   "metadata": {
    "collapsed": false
   },
   "outputs": [
    {
     "name": "stdout",
     "output_type": "stream",
     "text": [
      "7.00363763624\n",
      "0.137884857794\n",
      "[[ 0.99481278  0.02557265]\n",
      " [ 0.02557265  1.00541532]]\n"
     ]
    },
    {
     "data": {
      "image/png": "[encoded data removed]",
      "text/plain": [
       "<matplotlib.figure.Figure at 0x119d1fa20>"
      ]
     },
     "metadata": {},
     "output_type": "display_data"
    }
   ],
   "source": [
    "meanVal=[]\n",
    "\n",
    "primeiro= []\n",
    "nono = []\n",
    "\n",
    "for i in range (0,10001):\n",
    "    valores = np.random.choice(r,50)\n",
    "    primeiro.append(valores[0])\n",
    "    nono.append(valores[9])\n",
    "    meanVal.append(np.mean(valores))\n",
    "    \n",
    "plt.hist(meanVal)\n",
    "media = np.mean(meanVal)\n",
    "variancia = np.var(meanVal)\n",
    "print(media)\n",
    "print(variancia)\n",
    "\n",
    "plt.hist(primeiro)\n",
    "plt.hist(nono)\n",
    "\n",
    "des1= (np.var(primeiro))**(1/2)\n",
    "des9=(np.var(nono))**(1/2)\n",
    "cov = np.cov(primeiro,nono)\n",
    "print(cov/(des1*des9))"
   ]
  },
  {
   "cell_type": "markdown",
   "metadata": {
    "collapsed": true
   },
   "source": [
    "## Outro exemplo\n",
    "\n",
    "<img src=\"imagem.png\">\n",
    "\n",
    "*Retirado de http://www.portalaction.com.br/sites/default/files/Probabilidade/figuras/TCL8_0.png *\n",
    "\n",
    "Mais uma vez observamos que a media que o n aumenta, a normal tende a centralizar cada vez mais na média."
   ]
  },
  {
   "cell_type": "markdown",
   "metadata": {
    "collapsed": true
   },
   "source": [
    "## Uma demonstração por vídeo\n",
    "\n",
    "link: https://www.youtube.com/watch?v=t31I49KYFDo\n",
    "\n",
    "O vídeo acima explica a ideia do Teorema do Limite Central. O interessante é que ele passa por todo o processo de selecionar uma amostra, pegar a média, repetir algumas vezes e plotar o gráfico. Como esperado, temos uma distribuição normal.\n",
    "\n",
    "Indo um pouco além, é comentado a importância desse teorema, que serve de base para toda a estatística."
   ]
  }
 ],
 "metadata": {
  "kernelspec": {
   "display_name": "Python 3",
   "language": "python",
   "name": "python3"
  },
  "language_info": {
   "codemirror_mode": {
    "name": "ipython",
    "version": 3
   },
   "file_extension": ".py",
   "mimetype": "text/x-python",
   "name": "python",
   "nbconvert_exporter": "python",
   "pygments_lexer": "ipython3",
   "version": "3.5.2"
  }
 },
 "nbformat": 4,
 "nbformat_minor": 0
}
