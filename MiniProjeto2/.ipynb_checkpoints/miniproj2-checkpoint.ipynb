{
 "cells": [
  {
   "cell_type": "markdown",
   "metadata": {},
   "source": [
    "## Daniel Ruhman e Marcelo Prado\n",
    "\n",
    "# Mini Projeto 2 - Teorema do Limite Central\n",
    "\n",
    "Esse projeto visa explicar um pouco da lógica por trás do teorema do limite central. Sendo base para o estudo de estatística, é importante compreênde-lo.\n",
    "\n",
    "### Introdução:\n",
    "A ideia central do teorema é que qualquer conjunto de dados (com amostras suficientes - >30 já basta) pode ter a média amostral aproximada por uma distruibuição normal de mesma média e variância igual a var/n^(1/2). Para isso, escolhe-se aleatoriamente *n* valores da distribuição a ser transformada e extrai-se a média deles. Repetindo esse processo várias vezes, e plotando essas médias encontradas em um gráfico, chegamos à distribuição normal."
   ]
  },
  {
   "cell_type": "code",
   "execution_count": 1,
   "metadata": {
    "collapsed": false
   },
   "outputs": [],
   "source": [
    "%matplotlib inline\n",
    "import pandas as pd\n",
    "import matplotlib.pyplot as plt\n",
    "import numpy as np\n",
    "import os\n",
    "from scipy import stats\n",
    "\n",
    "lmb=7\n",
    "dist= stats.poisson(lmb)\n",
    "r = stats.poisson.rvs(mu=lmb, loc=0, size=1000000)\n",
    "mean = np.mean(r)\n",
    "var = np.var(r)"
   ]
  },
  {
   "cell_type": "code",
   "execution_count": 2,
   "metadata": {
    "collapsed": false
   },
   "outputs": [
    {
     "name": "stdout",
     "output_type": "stream",
     "text": [
      "6.96480351965\n",
      "3.58560252364\n"
     ]
    },
    {
     "data": {
      "image/png": "[encoded data removed]",
      "text/plain": [
       "<matplotlib.figure.Figure at 0x115ccdbe0>"
      ]
     },
     "metadata": {},
     "output_type": "display_data"
    }
   ],
   "source": [
    "meanVal=[]\n",
    "for i in range (0,10001):\n",
    "    valores = np.random.choice(r,2)\n",
    "    meanVal.append(np.mean(valores))\n",
    "    \n",
    "plt.hist(meanVal)\n",
    "media = np.mean(meanVal)\n",
    "variancia = np.var(meanVal)\n",
    "print(media)\n",
    "print(variancia)"
   ]
  },
  {
   "cell_type": "code",
   "execution_count": 3,
   "metadata": {
    "collapsed": false
   },
   "outputs": [
    {
     "name": "stdout",
     "output_type": "stream",
     "text": [
      "7.02092290771\n",
      "1.75903003515\n"
     ]
    },
    {
     "data": {
      "image/png": "[encoded data removed]",
      "text/plain": [
       "<matplotlib.figure.Figure at 0x119b076a0>"
      ]
     },
     "metadata": {},
     "output_type": "display_data"
    }
   ],
   "source": [
    "meanVal=[]\n",
    "for i in range (0,10001):\n",
    "    valores = np.random.choice(r,4)\n",
    "    meanVal.append(np.mean(valores))\n",
    "    \n",
    "plt.hist(meanVal)\n",
    "media = np.mean(meanVal)\n",
    "variancia = np.var(meanVal)\n",
    "print(media)\n",
    "print(variancia)"
   ]
  },
  {
   "cell_type": "code",
   "execution_count": 4,
   "metadata": {
    "collapsed": false
   },
   "outputs": [
    {
     "name": "stdout",
     "output_type": "stream",
     "text": [
      "7.00243975602\n",
      "0.355710475948\n"
     ]
    },
    {
     "data": {
      "image/png": "[encoded data removed]",
      "text/plain": [
       "<matplotlib.figure.Figure at 0x119e98be0>"
      ]
     },
     "metadata": {},
     "output_type": "display_data"
    }
   ],
   "source": [
    "meanVal=[]\n",
    "for i in range (0,10001):\n",
    "    valores = np.random.choice(r,20)\n",
    "    meanVal.append(np.mean(valores))\n",
    "    \n",
    "plt.hist(meanVal)\n",
    "media = np.mean(meanVal)\n",
    "variancia = np.var(meanVal)\n",
    "print(media)\n",
    "print(variancia)"
   ]
  },
  {
   "cell_type": "code",
   "execution_count": 5,
   "metadata": {
    "collapsed": false
   },
   "outputs": [
    {
     "name": "stdout",
     "output_type": "stream",
     "text": [
      "6.99863013699\n",
      "0.139218321456\n",
      "[[  2.94148386e-03  -1.82207098e-05]\n",
      " [ -1.82207098e-05   2.95784020e-03]]\n"
     ]
    },
    {
     "data": {
      "image/png": "[encoded data removed]",
      "text/plain": [
       "<matplotlib.figure.Figure at 0x119ea1080>"
      ]
     },
     "metadata": {},
     "output_type": "display_data"
    }
   ],
   "source": [
    "meanVal=[]\n",
    "\n",
    "primeiro= []\n",
    "nono = []\n",
    "\n",
    "for i in range (0,10001):\n",
    "    valores = np.random.choice(r,50)\n",
    "    primeiro.append(valores[0])\n",
    "    nono.append(valores[9])\n",
    "    meanVal.append(np.mean(valores))\n",
    "    \n",
    "plt.hist(meanVal)\n",
    "media = np.mean(meanVal)\n",
    "variancia = np.var(meanVal)\n",
    "print(media)\n",
    "print(variancia)\n",
    "\n",
    "plt.hist(primeiro)\n",
    "plt.hist(nono)\n",
    "\n",
    "des1= (np.var(primeiro))**2\n",
    "des9=(np.var(nono))**2\n",
    "cov = np.cov(primeiro,nono)\n",
    "print(cov/(des1*des9))"
   ]
  },
  {
   "cell_type": "code",
   "execution_count": null,
   "metadata": {
    "collapsed": true
   },
   "outputs": [],
   "source": []
  }
 ],
 "metadata": {
  "kernelspec": {
   "display_name": "Python 3",
   "language": "python",
   "name": "python3"
  },
  "language_info": {
   "codemirror_mode": {
    "name": "ipython",
    "version": 3
   },
   "file_extension": ".py",
   "mimetype": "text/x-python",
   "name": "python",
   "nbconvert_exporter": "python",
   "pygments_lexer": "ipython3",
   "version": "3.5.2"
  }
 },
 "nbformat": 4,
 "nbformat_minor": 0
}
