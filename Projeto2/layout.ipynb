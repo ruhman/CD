{
 "cells": [
  {
   "cell_type": "markdown",
   "metadata": {},
   "source": [
    "## Daniel Ruhman e Marcelo Prado - 2A\n",
    "\n",
    "# Projeto 2 - Teste AB\n",
    "\n",
    "### Introdução\n",
    "\n",
    "O propósito desse projeto era realizar um teste AB para checar qual das versões era mais eficiente para determinada tarefa. O objeto de estudo foi o currículo elaborado por nós na disciplina de Co-Design de Aplicativos. Para determinar a eficiência da \n",
    "\n",
    "#### A Tarefa\n",
    "  A tarefa escolhida pelo grupo foi encontrar o projeto \"Estação Meterológica\" e clicar nele. Uma vez que a versão A e a versão B eram muito diferentes uma da outra, queríamos testar qual versão era mais eficiente para ajudar o usuário a encontrar um projeto específico.\n",
    "    \n",
    "#### As Versões\n",
    "**Versão A - Currículo do Daniel**\n",
    "\n",
    "Nessa versão, os projetos encontram-se dentro de categorias, acessadas através de um menu seletor. Para encontrar um projeto específico, o usuário precisaria saber em qual categoria o projeto se encontra. \n",
    "<img src=\"demoA.png\"> \n",
    "\n",
    "**Versão B - Currículo do Marcelo **\n",
    "\n",
    "Nessa versão, os projetos encontram-se no final da página por imagens. Quando o usúario passa o mouse em cima do projeto, ele pode ver o nome e a disciplina. Nesse caso, o usuário precisaria rolar toda a página e procurar pelas imagens o projeto da estação.\n",
    "<img src=\"demoB.png\"> \n"
   ]
  },
  {
   "cell_type": "markdown",
   "metadata": {},
   "source": [
    "## Técnica Inferencial Usada\n",
    "\n",
    "Para descobrir qual era o modelo estatístico mais adequado para analisar o teste AB, fizemos as seguintes considerações:\n",
    "\n",
    "1. Estamos analisando duas amostras indendentes (versão A e B). Assim, temos duas variáveis aleatórias, X e Y\n",
    "2. Não sabemos o desvio padrão das duas populações\n",
    "3. Não sabemos se a variância de X e Y são iguais\n",
    "4. As amostras podem possuir tamanhos distintos\n",
    "\n",
    "O primeiro passo para decidir o modelo será verificar o tamanho e a variância de cada uma das amostras."
   ]
  },
  {
   "cell_type": "code",
   "execution_count": 2,
   "metadata": {
    "collapsed": true
   },
   "outputs": [],
   "source": [
    "import pandas as pd\n",
    "import json\n",
    "import itertools\n",
    "import matplotlib.pyplot as plt\n",
    "import math"
   ]
  },
  {
   "cell_type": "code",
   "execution_count": 3,
   "metadata": {
    "collapsed": true
   },
   "outputs": [],
   "source": [
    "%matplotlib inline\n",
    "arquivo = open(\"logs.json\")\n",
    "linhas = arquivo.readlines()\n",
    "texto = \"\".join(linhas)\n",
    "dados_fire = json.loads(texto)"
   ]
  },
  {
   "cell_type": "code",
   "execution_count": 4,
   "metadata": {
    "collapsed": false
   },
   "outputs": [],
   "source": [
    "# Preparação do JSON segundo referência do professor\n",
    "\n",
    "lista_dicionarios = []\n",
    "\n",
    "for k,v in dados_fire[\"logs\"].items():\n",
    "    lista_dicionarios.append(v)\n",
    "    \n",
    "dataframe = pd.DataFrame.from_records(lista_dicionarios)\n",
    "agrupado = dataframe.groupby(by=[\"user_id\", \"versao\"])\n",
    "users = set(dataframe.user_id) # We convert it to a set so that each user appear only once\n",
    "users = list(users) \n",
    "\n",
    "resultados = []\n",
    "\n",
    "for u in users:\n",
    "    for versao in [\"A\", \"B\"]:\n",
    "        if (u, versao) in agrupado.groups.keys(): # Check if a specific pair user/type of test happened\n",
    "            grupo1 =  agrupado.get_group((u, versao))\n",
    "            grupo1 = grupo1.sort_values(by=\"tempo\") # Para evitar que inícios sem fim gerem tempos negativos\n",
    "            \n",
    "            if len(grupo1[grupo1.tipo==\"final\"])>= 1 and len(grupo1[grupo1.tipo==\"inicio\"]) >= 1:\n",
    "                delta_t = grupo1[grupo1.tipo==\"final\"].iloc[-1].tempo - grupo1[grupo1.tipo==\"inicio\"].iloc[0].tempo\n",
    "                resultados.append({\"user_id\":u, \"delta_t\":delta_t, \"versao\":versao})\n",
    "                "
   ]
  },
  {
   "cell_type": "code",
   "execution_count": 5,
   "metadata": {
    "collapsed": false
   },
   "outputs": [],
   "source": [
    "# Constrói a base de dados e remove valores absurdos\n",
    "dataframe_resumo = pd.DataFrame.from_records(resultados)\n",
    "dataframe_resumo.delta_t/=1000 # Convertendo milissegundos em segundos\n",
    "dataframe_filtrado = dataframe_resumo[(dataframe_resumo.delta_t < 200)]"
   ]
  },
  {
   "cell_type": "code",
   "execution_count": 6,
   "metadata": {
    "collapsed": false
   },
   "outputs": [
    {
     "name": "stdout",
     "output_type": "stream",
     "text": [
      "Tamanho de A: 25 \n",
      "Tamanho de B: 18\n"
     ]
    }
   ],
   "source": [
    "nA = dataframe_filtrado[(dataframe_filtrado.versao == \"A\")]\n",
    "nB = dataframe_filtrado[(dataframe_filtrado.versao == \"B\")]\n",
    "print(\"Tamanho de A: {0} \\nTamanho de B: {1}\".format(nA.versao.count(),nB.versao.count()))"
   ]
  },
  {
   "cell_type": "code",
   "execution_count": 7,
   "metadata": {
    "collapsed": false
   },
   "outputs": [
    {
     "data": {
      "text/html": [
       "<div>\n",
       "<table border=\"1\" class=\"dataframe\">\n",
       "  <thead>\n",
       "    <tr style=\"text-align: right;\">\n",
       "      <th></th>\n",
       "      <th>delta_t</th>\n",
       "      <th>user_id</th>\n",
       "    </tr>\n",
       "  </thead>\n",
       "  <tbody>\n",
       "    <tr>\n",
       "      <th>count</th>\n",
       "      <td>25.000000</td>\n",
       "      <td>2.500000e+01</td>\n",
       "    </tr>\n",
       "    <tr>\n",
       "      <th>mean</th>\n",
       "      <td>42.312120</td>\n",
       "      <td>2.159660e+09</td>\n",
       "    </tr>\n",
       "    <tr>\n",
       "      <th>std</th>\n",
       "      <td>47.884906</td>\n",
       "      <td>1.284556e+09</td>\n",
       "    </tr>\n",
       "    <tr>\n",
       "      <th>min</th>\n",
       "      <td>4.571000</td>\n",
       "      <td>7.928211e+07</td>\n",
       "    </tr>\n",
       "    <tr>\n",
       "      <th>25%</th>\n",
       "      <td>13.528000</td>\n",
       "      <td>1.154931e+09</td>\n",
       "    </tr>\n",
       "    <tr>\n",
       "      <th>50%</th>\n",
       "      <td>24.355000</td>\n",
       "      <td>2.265674e+09</td>\n",
       "    </tr>\n",
       "    <tr>\n",
       "      <th>75%</th>\n",
       "      <td>42.536000</td>\n",
       "      <td>3.054759e+09</td>\n",
       "    </tr>\n",
       "    <tr>\n",
       "      <th>max</th>\n",
       "      <td>187.051000</td>\n",
       "      <td>4.158649e+09</td>\n",
       "    </tr>\n",
       "  </tbody>\n",
       "</table>\n",
       "</div>"
      ],
      "text/plain": [
       "          delta_t       user_id\n",
       "count   25.000000  2.500000e+01\n",
       "mean    42.312120  2.159660e+09\n",
       "std     47.884906  1.284556e+09\n",
       "min      4.571000  7.928211e+07\n",
       "25%     13.528000  1.154931e+09\n",
       "50%     24.355000  2.265674e+09\n",
       "75%     42.536000  3.054759e+09\n",
       "max    187.051000  4.158649e+09"
      ]
     },
     "execution_count": 7,
     "metadata": {},
     "output_type": "execute_result"
    }
   ],
   "source": [
    "nA.describe()"
   ]
  },
  {
   "cell_type": "code",
   "execution_count": 8,
   "metadata": {
    "collapsed": false
   },
   "outputs": [
    {
     "data": {
      "text/html": [
       "<div>\n",
       "<table border=\"1\" class=\"dataframe\">\n",
       "  <thead>\n",
       "    <tr style=\"text-align: right;\">\n",
       "      <th></th>\n",
       "      <th>delta_t</th>\n",
       "      <th>user_id</th>\n",
       "    </tr>\n",
       "  </thead>\n",
       "  <tbody>\n",
       "    <tr>\n",
       "      <th>count</th>\n",
       "      <td>18.000000</td>\n",
       "      <td>1.800000e+01</td>\n",
       "    </tr>\n",
       "    <tr>\n",
       "      <th>mean</th>\n",
       "      <td>55.146222</td>\n",
       "      <td>1.979653e+09</td>\n",
       "    </tr>\n",
       "    <tr>\n",
       "      <th>std</th>\n",
       "      <td>44.487020</td>\n",
       "      <td>1.101035e+09</td>\n",
       "    </tr>\n",
       "    <tr>\n",
       "      <th>min</th>\n",
       "      <td>8.424000</td>\n",
       "      <td>6.897452e+08</td>\n",
       "    </tr>\n",
       "    <tr>\n",
       "      <th>25%</th>\n",
       "      <td>25.270250</td>\n",
       "      <td>1.238704e+09</td>\n",
       "    </tr>\n",
       "    <tr>\n",
       "      <th>50%</th>\n",
       "      <td>42.321500</td>\n",
       "      <td>1.630158e+09</td>\n",
       "    </tr>\n",
       "    <tr>\n",
       "      <th>75%</th>\n",
       "      <td>67.309500</td>\n",
       "      <td>2.834223e+09</td>\n",
       "    </tr>\n",
       "    <tr>\n",
       "      <th>max</th>\n",
       "      <td>164.399000</td>\n",
       "      <td>4.031768e+09</td>\n",
       "    </tr>\n",
       "  </tbody>\n",
       "</table>\n",
       "</div>"
      ],
      "text/plain": [
       "          delta_t       user_id\n",
       "count   18.000000  1.800000e+01\n",
       "mean    55.146222  1.979653e+09\n",
       "std     44.487020  1.101035e+09\n",
       "min      8.424000  6.897452e+08\n",
       "25%     25.270250  1.238704e+09\n",
       "50%     42.321500  1.630158e+09\n",
       "75%     67.309500  2.834223e+09\n",
       "max    164.399000  4.031768e+09"
      ]
     },
     "execution_count": 8,
     "metadata": {},
     "output_type": "execute_result"
    }
   ],
   "source": [
    "nB.describe()"
   ]
  },
  {
   "cell_type": "code",
   "execution_count": 9,
   "metadata": {
    "collapsed": false
   },
   "outputs": [
    {
     "name": "stdout",
     "output_type": "stream",
     "text": [
      "Variância de A e B\n",
      "2292.9642644433334\n",
      "1979.0949305359477\n"
     ]
    }
   ],
   "source": [
    "print(\"Variância de A e B\")\n",
    "print(nA.delta_t.var())\n",
    "print(nB.delta_t.var())"
   ]
  },
  {
   "cell_type": "markdown",
   "metadata": {},
   "source": [
    "Vamos agora plotar um Boxplot para ter uma ideia inicial da distribuição dos dados entre as diferentes versões:"
   ]
  },
  {
   "cell_type": "code",
   "execution_count": 10,
   "metadata": {
    "collapsed": false
   },
   "outputs": [
    {
     "data": {
      "text/plain": [
       "<matplotlib.axes._subplots.AxesSubplot at 0x114c845f8>"
      ]
     },
     "execution_count": 10,
     "metadata": {},
     "output_type": "execute_result"
    },
    {
     "data": {
      "image/png": "[encoded data removed]",
      "text/plain": [
       "<matplotlib.figure.Figure at 0x1127899e8>"
      ]
     },
     "metadata": {},
     "output_type": "display_data"
    }
   ],
   "source": [
    "tempos_A = list(dataframe_filtrado[dataframe_filtrado.versao==\"A\"].delta_t)\n",
    "tempos_B = list(dataframe_filtrado[dataframe_filtrado.versao==\"B\"].delta_t)\n",
    "\n",
    "dataframe_filtrado.boxplot(column=\"delta_t\",by=\"versao\")"
   ]
  },
  {
   "cell_type": "markdown",
   "metadata": {},
   "source": [
    "### Hipóteses\n",
    "\n",
    "Analisando o Boxplot acima, podemos perceber que é possível que os usuários da versão A tenham encontrado o projeto com mais facilidade que os usuários da versão B. Dessa forma, definiremos as seguintes hipóteses:\n",
    "\n",
    "hipótese alternativa (o que queremos descobrir): Média da versão A < Média da versão B. \n",
    "hipótese nula: Média da versão A = Média da versão B\n",
    "\n",
    "H0 -> uA = uB\n",
    "\n",
    "HA -> uA < uB\n",
    "\n",
    "## Modelo a ser usado: amostras independentes com variâncias desconhecidas e diferentes\n",
    "\n",
    "\n",
    "Como não sabemos os desvios padrões das duas populações, precisamos estimá-los através dos desvios padrões das amostras.\n",
    "\n",
    "Como a varância da versão A é diferente da versão B, teremos de usar o modelo proposto na página 325 do Magalhães e Lima, o Caso 3B para Amostras Independentes com Variâncias desconhecidas e diferentes. Utilizaremos as seguintes fórmulas:\n",
    "\n",
    "<img src=\"formulas.jpg\">"
   ]
  },
  {
   "cell_type": "code",
   "execution_count": 12,
   "metadata": {
    "collapsed": false
   },
   "outputs": [
    {
     "name": "stdout",
     "output_type": "stream",
     "text": [
      "t: -0.019619598748128186\n",
      "graus de liberdade: 39.563122645776694\n"
     ]
    }
   ],
   "source": [
    "# Versão A\n",
    "mediaX = nA.delta_t.mean()\n",
    "varX = nA.delta_t.var()\n",
    "nX = nA.delta_t.count()\n",
    "\n",
    "# Versão B\n",
    "mediaY = nB.delta_t.mean()\n",
    "varY = nB.delta_t.var()\n",
    "nY = nB.delta_t.count()\n",
    "\n",
    "d = mediaX - mediaY\n",
    "\n",
    "varD = ((varX**2) / nX ) + ((varY**2) / nY)\n",
    "\n",
    "t = d/(math.sqrt(varD))\n",
    "\n",
    "\n",
    "grausLiberade = (varD ** 2)/ (((((varX**2)/nX)**2)/(nX-1)) + ((((varY**2)/nY)**2)/(nY-1)))\n",
    "\n",
    "print(\"t: {0}\\ngraus de liberdade: {1}\".format(t,grausLiberade))"
   ]
  },
  {
   "cell_type": "markdown",
   "metadata": {},
   "source": [
    "### Região Crítica\n",
    "\n",
    "**tObservado = -0.019619**\n",
    "\n",
    "Definindo o nível de significancia (alpha) = 5%, e com 40 graus de liberdade, o T crítico será: **+-1.684** .\n",
    "Observamos então que o tObservado não se encontra  na região crítica (-Tcrítico < tObservado < Tcrítico). Dessa forma, concluimos que a hipótese nula é válida com nível para o nível de significância de 5%.\n",
    "\n"
   ]
  },
  {
   "cell_type": "markdown",
   "metadata": {},
   "source": [
    "## Conclusão\n",
    "\n",
    "Como nosso tObservado não se encontra na região crítica, não rejeitamos H0. Dessa forma, através de uma análise estatística do teste AB, podemos concluir que os dois currículos não apresententam diferenças significativas no tempo necessário para encontrar um projeto."
   ]
  }
 ],
 "metadata": {
  "kernelspec": {
   "display_name": "Python 3",
   "language": "python",
   "name": "python3"
  },
  "language_info": {
   "codemirror_mode": {
    "name": "ipython",
    "version": 3
   },
   "file_extension": ".py",
   "mimetype": "text/x-python",
   "name": "python",
   "nbconvert_exporter": "python",
   "pygments_lexer": "ipython3",
   "version": "3.5.2"
  }
 },
 "nbformat": 4,
 "nbformat_minor": 0
}
