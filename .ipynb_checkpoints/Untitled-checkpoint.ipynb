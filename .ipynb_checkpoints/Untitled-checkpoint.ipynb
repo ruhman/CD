{
 "cells": [
  {
   "cell_type": "code",
   "execution_count": 21,
   "metadata": {
    "collapsed": false
   },
   "outputs": [],
   "source": [
    "%matplotlib inline\n",
    "import pandas as pd\n",
    "import matplotlib.pyplot as plt\n",
    "import numpy as np\n",
    "import os\n",
    "from scipy import stats\n",
    "\n",
    "lmb=7\n",
    "dist= stats.poisson(lmb)\n",
    "r = stats.poisson.rvs(mu=lmb, loc=0, size=1000000)\n",
    "mean = np.mean(r)\n",
    "var = np.var(r)"
   ]
  },
  {
   "cell_type": "code",
   "execution_count": 22,
   "metadata": {
    "collapsed": false
   },
   "outputs": [
    {
     "name": "stdout",
     "output_type": "stream",
     "text": [
      "7.00099990001\n",
      "3.46300269983\n"
     ]
    },
    {
     "data": {
      "image/png": "[encoded data removed]",
      "text/plain": [
       "<matplotlib.figure.Figure at 0x11af48400>"
      ]
     },
     "metadata": {},
     "output_type": "display_data"
    }
   ],
   "source": [
    "meanVal=[]\n",
    "for i in range (0,10001):\n",
    "    valores = np.random.choice(r,2)\n",
    "    meanVal.append(np.mean(valores))\n",
    "    \n",
    "plt.hist(meanVal)\n",
    "media = np.mean(meanVal)\n",
    "variancia = np.var(meanVal)\n",
    "print(media)\n",
    "print(variancia)"
   ]
  },
  {
   "cell_type": "code",
   "execution_count": 23,
   "metadata": {
    "collapsed": false
   },
   "outputs": [
    {
     "name": "stdout",
     "output_type": "stream",
     "text": [
      "7.01534846515\n",
      "1.74913948711\n"
     ]
    },
    {
     "data": {
      "image/png": "[encoded data removed]",
      "text/plain": [
       "<matplotlib.figure.Figure at 0x11b5fbdd8>"
      ]
     },
     "metadata": {},
     "output_type": "display_data"
    }
   ],
   "source": [
    "meanVal=[]\n",
    "for i in range (0,10001):\n",
    "    valores = np.random.choice(r,4)\n",
    "    meanVal.append(np.mean(valores))\n",
    "    \n",
    "plt.hist(meanVal)\n",
    "media = np.mean(meanVal)\n",
    "variancia = np.var(meanVal)\n",
    "print(media)\n",
    "print(variancia)"
   ]
  },
  {
   "cell_type": "code",
   "execution_count": 24,
   "metadata": {
    "collapsed": false
   },
   "outputs": [
    {
     "name": "stdout",
     "output_type": "stream",
     "text": [
      "6.99729527047\n",
      "0.343610572649\n"
     ]
    },
    {
     "data": {
      "image/png": "[encoded data removed]",
      "text/plain": [
       "<matplotlib.figure.Figure at 0x11af468d0>"
      ]
     },
     "metadata": {},
     "output_type": "display_data"
    }
   ],
   "source": [
    "meanVal=[]\n",
    "for i in range (0,10001):\n",
    "    valores = np.random.choice(r,20)\n",
    "    meanVal.append(np.mean(valores))\n",
    "    \n",
    "plt.hist(meanVal)\n",
    "media = np.mean(meanVal)\n",
    "variancia = np.var(meanVal)\n",
    "print(media)\n",
    "print(variancia)"
   ]
  },
  {
   "cell_type": "code",
   "execution_count": 28,
   "metadata": {
    "collapsed": false
   },
   "outputs": [
    {
     "name": "stdout",
     "output_type": "stream",
     "text": [
      "7.00544345565\n",
      "0.139294436384\n",
      "[[  3.00556327e-03  -2.20180477e-06]\n",
      " [ -2.20180477e-06   3.00242261e-03]]\n"
     ]
    },
    {
     "data": {
      "image/png": "[encoded data removed]",
      "text/plain": [
       "<matplotlib.figure.Figure at 0x11b0c3e48>"
      ]
     },
     "metadata": {},
     "output_type": "display_data"
    }
   ],
   "source": [
    "meanVal=[]\n",
    "\n",
    "primeiro= []\n",
    "nono = []\n",
    "\n",
    "for i in range (0,10001):\n",
    "    valores = np.random.choice(r,50)\n",
    "    primeiro.append(valores[0])\n",
    "    nono.append(valores[9])\n",
    "    meanVal.append(np.mean(valores))\n",
    "    \n",
    "plt.hist(meanVal)\n",
    "media = np.mean(meanVal)\n",
    "variancia = np.var(meanVal)\n",
    "print(media)\n",
    "print(variancia)\n",
    "\n",
    "plt.hist(primeiro)\n",
    "plt.hist(nono)\n",
    "\n",
    "des1= (np.var(primeiro))**2\n",
    "des9=(np.var(nono))**2\n",
    "cov = np.cov(primeiro,nono)\n",
    "print(cov/(des1*des9))"
   ]
  },
  {
   "cell_type": "code",
   "execution_count": null,
   "metadata": {
    "collapsed": true
   },
   "outputs": [],
   "source": []
  }
 ],
 "metadata": {
  "kernelspec": {
   "display_name": "Python 3",
   "language": "python",
   "name": "python3"
  },
  "language_info": {
   "codemirror_mode": {
    "name": "ipython",
    "version": 3
   },
   "file_extension": ".py",
   "mimetype": "text/x-python",
   "name": "python",
   "nbconvert_exporter": "python",
   "pygments_lexer": "ipython3",
   "version": "3.5.2"
  }
 },
 "nbformat": 4,
 "nbformat_minor": 0
}
